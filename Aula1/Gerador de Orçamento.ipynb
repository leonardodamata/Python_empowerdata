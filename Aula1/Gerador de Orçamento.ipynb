{
 "cells": [
  {
   "cell_type": "markdown",
   "id": "8fe359fc",
   "metadata": {},
   "source": [
    "# Meu Primeiro código Python"
   ]
  },
  {
   "cell_type": "code",
   "execution_count": 3,
   "id": "e6f3815c",
   "metadata": {},
   "outputs": [
    {
     "name": "stdout",
     "output_type": "stream",
     "text": [
      "Orçamento gerado com sucesso!\n",
      "Semana do Python na prática\n",
      "python!\n"
     ]
    }
   ],
   "source": [
    "print(\"Orçamento gerado com sucesso!\")\n",
    "print(\"Semana do Python na prática\")\n",
    "print(\"python!\")"
   ]
  },
  {
   "cell_type": "markdown",
   "id": "4d1a73d4",
   "metadata": {},
   "source": [
    "# Entrada de dados"
   ]
  },
  {
   "cell_type": "code",
   "execution_count": 5,
   "id": "db12b160",
   "metadata": {},
   "outputs": [
    {
     "name": "stdout",
     "output_type": "stream",
     "text": [
      "Digite a descriação do Projeto: desenvolvimento web\n",
      "Digite o total de horas estimadas: 150\n",
      "Digite o valor da hora trabalhada: 200\n",
      "Digite o prazo estimado: 5 meses\n"
     ]
    },
    {
     "data": {
      "text/plain": [
       "'5 meses'"
      ]
     },
     "execution_count": 5,
     "metadata": {},
     "output_type": "execute_result"
    }
   ],
   "source": [
    "input(\"Digite a descriação do Projeto: \")\n",
    "input(\"Digite o total de horas estimadas: \")\n",
    "input(\"Digite o valor da hora trabalhada: \")\n",
    "input(\"Digite o prazo estimado: \")"
   ]
  },
  {
   "cell_type": "markdown",
   "id": "fa1b93dd",
   "metadata": {},
   "source": [
    "# Guardando informações do usuário"
   ]
  },
  {
   "cell_type": "code",
   "execution_count": 14,
   "id": "f7008b29",
   "metadata": {},
   "outputs": [
    {
     "name": "stdout",
     "output_type": "stream",
     "text": [
      "Digite a descriação do Projeto: 10\n",
      "Digite o total de horas estimadas: 10\n",
      "Digite o valor da hora trabalhada: 10\n",
      "Digite o prazo estimado: 10\n"
     ]
    }
   ],
   "source": [
    "projeto = input(\"Digite a descriação do Projeto: \")\n",
    "horas_estimadas = input(\"Digite o total de horas estimadas: \")\n",
    "valor_hora = input(\"Digite o valor da hora trabalhada: \")\n",
    "prazo = input(\"Digite o prazo estimado: \")"
   ]
  },
  {
   "cell_type": "code",
   "execution_count": 15,
   "id": "15e5f112",
   "metadata": {},
   "outputs": [
    {
     "name": "stdout",
     "output_type": "stream",
     "text": [
      "10\n"
     ]
    }
   ],
   "source": [
    "print(projeto)"
   ]
  },
  {
   "cell_type": "markdown",
   "id": "8df0ca01",
   "metadata": {},
   "source": [
    "https://www.youtube.com/watch?v=tkTZNMRsM98  41 minutos"
   ]
  }
 ],
 "metadata": {
  "kernelspec": {
   "display_name": "Python 3 (ipykernel)",
   "language": "python",
   "name": "python3"
  },
  "language_info": {
   "codemirror_mode": {
    "name": "ipython",
    "version": 3
   },
   "file_extension": ".py",
   "mimetype": "text/x-python",
   "name": "python",
   "nbconvert_exporter": "python",
   "pygments_lexer": "ipython3",
   "version": "3.9.13"
  }
 },
 "nbformat": 4,
 "nbformat_minor": 5
}
